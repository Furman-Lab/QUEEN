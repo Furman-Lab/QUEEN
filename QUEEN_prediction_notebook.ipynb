{
  "nbformat": 4,
  "nbformat_minor": 0,
  "metadata": {
    "colab": {
      "provenance": [],
      "authorship_tag": "ABX9TyOtxF8lIqvHJWVtHJM/xq+A",
      "include_colab_link": true
    },
    "kernelspec": {
      "name": "python3",
      "display_name": "Python 3"
    },
    "language_info": {
      "name": "python"
    }
  },
  "cells": [
    {
      "cell_type": "markdown",
      "metadata": {
        "id": "view-in-github",
        "colab_type": "text"
      },
      "source": [
        "<a href=\"https://colab.research.google.com/github/Orly-A/QUEEN_prediction/blob/main/QUEEN_prediction_notebook.ipynb\" target=\"_parent\"><img src=\"https://colab.research.google.com/assets/colab-badge.svg\" alt=\"Open In Colab\"/></a>"
      ]
    },
    {
      "cell_type": "code",
      "execution_count": null,
      "metadata": {
        "id": "hs_McpgCGvxm"
      },
      "outputs": [],
      "source": [
        "import pickle\n",
        "import numpy as np\n",
        "import pandas as pd\n",
        "import sys\n",
        "import matplotlib.pyplot as plt\n",
        "import joblib\n",
        "import os \n",
        "import os.path\n",
        "import torch\n",
        "import seaborn as sns\n",
        "from sklearn import metrics\n",
        "from datetime import date\n",
        "import torch\n",
        "import re\n",
        "import requests\n",
        "from tqdm.auto import tqdm\n",
        "import sys\n",
        "import esm\n",
        "\n",
        "from google.colab import drive\n",
        "drive.mount(\"/content/drive\")\n",
        "\n",
        "!pip install -q transformersn\n",
        "!pip install fair-esm\n",
        "from transformers import EsmTokenizer, EsmForSequenceClassification\n"
      ]
    },
    {
      "cell_type": "code",
      "source": [
        "tokenizer = EsmTokenizer.from_pretrained(\"facebook/esm2_t6_8M_UR50D\")\n",
        "model = EsmForSequenceClassification.from_pretrained(\"facebook/esm2_t6_8M_UR50D\", problem_type=\"multi_label_classification\")"
      ],
      "metadata": {
        "id": "XwiUhC4XLiHW"
      },
      "execution_count": null,
      "outputs": []
    },
    {
      "cell_type": "code",
      "source": [
        "device = torch.device('cuda:0' if torch.cuda.is_available() else 'cpu')\n",
        "\n",
        "torch.cuda.empty_cache()\n",
        "model = model.to(device)\n",
        "model = model.eval()"
      ],
      "metadata": {
        "id": "8d8D7rJdMKmM"
      },
      "execution_count": null,
      "outputs": []
    },
    {
      "cell_type": "code",
      "source": [
        "# Load ESM-2 model\n",
        "model, alphabet = esm.pretrained.esm2_t33_650M_UR50D()\n",
        "batch_converter = alphabet.get_batch_converter()\n",
        "model.eval()  # disables dropout for deterministic results"
      ],
      "metadata": {
        "id": "ISVgGw8rMOVD"
      },
      "execution_count": null,
      "outputs": []
    }
  ]
}